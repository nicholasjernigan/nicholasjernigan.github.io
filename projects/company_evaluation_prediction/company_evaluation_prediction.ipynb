{
 "cells": [
  {
   "cell_type": "markdown",
   "metadata": {},
   "source": [
    "An investment firm I worked with had a CRM listing interesting potential customers that low level analysts had found, and an experienced VP had ranked. The CRM was used in conjunction with a LinkedIn Sales Navigator scraper to lookup new potential companies and rank them. \n",
    "\n",
    "Data is altered from original proprietary data."
   ]
  }
 ],
 "metadata": {
  "language_info": {
   "name": "python"
  },
  "orig_nbformat": 4
 },
 "nbformat": 4,
 "nbformat_minor": 2
}
